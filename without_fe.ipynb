{
 "cells": [
  {
   "cell_type": "code",
   "execution_count": 9,
   "metadata": {},
   "outputs": [],
   "source": [
    "import pandas as pd\n",
    "\n",
    "train = pd.read_csv(\"train.csv\")"
   ]
  },
  {
   "cell_type": "code",
   "execution_count": 10,
   "metadata": {},
   "outputs": [],
   "source": [
    "import numpy as np"
   ]
  },
  {
   "cell_type": "code",
   "execution_count": 11,
   "metadata": {},
   "outputs": [],
   "source": [
    "train['label_2'].fillna(train['label_2'].mean(), inplace=True)"
   ]
  },
  {
   "cell_type": "code",
   "execution_count": 12,
   "metadata": {},
   "outputs": [],
   "source": [
    "train['label_2'] = train['label_2'].astype(int)"
   ]
  },
  {
   "cell_type": "code",
   "execution_count": 13,
   "metadata": {},
   "outputs": [],
   "source": [
    "train.dropna(subset=['label_4'], inplace=True)"
   ]
  },
  {
   "cell_type": "code",
   "execution_count": 14,
   "metadata": {},
   "outputs": [],
   "source": [
    "lbl1_train = train[train.columns.difference(['label_2', 'label_3', 'label_4'])]\n",
    "lbl2_train = train[train.columns.difference(['label_1', 'label_3', 'label_4'])]\n",
    "lbl3_train = train[train.columns.difference(['label_1', 'label_2', 'label_4'])]\n",
    "lbl4_train = train[train.columns.difference(['label_1', 'label_2', 'label_3'])]"
   ]
  },
  {
   "cell_type": "code",
   "execution_count": null,
   "metadata": {},
   "outputs": [],
   "source": [
    "from sklearn import svm"
   ]
  },
  {
   "cell_type": "code",
   "execution_count": 16,
   "metadata": {},
   "outputs": [],
   "source": [
    "def train_model(df):\n",
    "    X = df.iloc[:, :-1]\n",
    "    y = df.iloc[:, -1]\n",
    "\n",
    "    model = svm.SVC(random_state=42)\n",
    "    model.fit(X, y)\n",
    "\n",
    "    print(f\"Training score: {model.score(X, y)}\")\n",
    "    print(f\"Testing score: {model.score(X, y)}\")\n",
    "\n",
    "    return model"
   ]
  },
  {
   "cell_type": "code",
   "execution_count": 20,
   "metadata": {},
   "outputs": [
    {
     "name": "stdout",
     "output_type": "stream",
     "text": [
      "Training score: 0.9987026647966339\n",
      "Testing score: 0.9987026647966339\n"
     ]
    }
   ],
   "source": [
    "model1 = train_model(lbl1_train)"
   ]
  },
  {
   "cell_type": "code",
   "execution_count": 19,
   "metadata": {},
   "outputs": [
    {
     "name": "stdout",
     "output_type": "stream",
     "text": [
      "Training score: 0.9890252454417953\n",
      "Testing score: 0.9890252454417953\n"
     ]
    }
   ],
   "source": [
    "model2 = train_model(lbl2_train)"
   ]
  },
  {
   "cell_type": "code",
   "execution_count": 21,
   "metadata": {},
   "outputs": [
    {
     "name": "stdout",
     "output_type": "stream",
     "text": [
      "Training score: 0.9997545582047686\n",
      "Testing score: 0.9997545582047686\n"
     ]
    }
   ],
   "source": [
    "model3 = train_model(lbl3_train)"
   ]
  },
  {
   "cell_type": "code",
   "execution_count": 22,
   "metadata": {},
   "outputs": [
    {
     "name": "stdout",
     "output_type": "stream",
     "text": [
      "Training score: 0.9922510518934081\n",
      "Testing score: 0.9922510518934081\n"
     ]
    }
   ],
   "source": [
    "model4 = train_model(lbl4_train)"
   ]
  },
  {
   "cell_type": "code",
   "execution_count": 23,
   "metadata": {},
   "outputs": [],
   "source": [
    "test = pd.read_csv(\"test.csv\")"
   ]
  },
  {
   "cell_type": "code",
   "execution_count": 29,
   "metadata": {},
   "outputs": [],
   "source": [
    "test = test[test.columns.difference(['label_1', 'label_2', 'label_3', 'label_4'])]"
   ]
  },
  {
   "cell_type": "code",
   "execution_count": 30,
   "metadata": {},
   "outputs": [],
   "source": [
    "test['label_1'] = model1.predict(test[test.columns.difference(['label_1', 'label_2', 'label_3', 'label_4'])])"
   ]
  },
  {
   "cell_type": "code",
   "execution_count": 31,
   "metadata": {},
   "outputs": [],
   "source": [
    "test['label_2'] = model2.predict(test[test.columns.difference(['label_1', 'label_2', 'label_3', 'label_4'])])"
   ]
  },
  {
   "cell_type": "code",
   "execution_count": 32,
   "metadata": {},
   "outputs": [],
   "source": [
    "test['label_3'] = model3.predict(test[test.columns.difference(['label_1', 'label_2', 'label_3', 'label_4'])])"
   ]
  },
  {
   "cell_type": "code",
   "execution_count": 33,
   "metadata": {},
   "outputs": [],
   "source": [
    "test['label_4'] = model4.predict(test[test.columns.difference(['label_1', 'label_2', 'label_3', 'label_4'])])"
   ]
  },
  {
   "cell_type": "code",
   "execution_count": 34,
   "metadata": {},
   "outputs": [
    {
     "data": {
      "text/html": [
       "<div>\n",
       "<style scoped>\n",
       "    .dataframe tbody tr th:only-of-type {\n",
       "        vertical-align: middle;\n",
       "    }\n",
       "\n",
       "    .dataframe tbody tr th {\n",
       "        vertical-align: top;\n",
       "    }\n",
       "\n",
       "    .dataframe thead th {\n",
       "        text-align: right;\n",
       "    }\n",
       "</style>\n",
       "<table border=\"1\" class=\"dataframe\">\n",
       "  <thead>\n",
       "    <tr style=\"text-align: right;\">\n",
       "      <th></th>\n",
       "      <th>feature_1</th>\n",
       "      <th>feature_10</th>\n",
       "      <th>feature_100</th>\n",
       "      <th>feature_101</th>\n",
       "      <th>feature_102</th>\n",
       "      <th>feature_103</th>\n",
       "      <th>feature_104</th>\n",
       "      <th>feature_105</th>\n",
       "      <th>feature_106</th>\n",
       "      <th>feature_107</th>\n",
       "      <th>...</th>\n",
       "      <th>feature_94</th>\n",
       "      <th>feature_95</th>\n",
       "      <th>feature_96</th>\n",
       "      <th>feature_97</th>\n",
       "      <th>feature_98</th>\n",
       "      <th>feature_99</th>\n",
       "      <th>label_1</th>\n",
       "      <th>label_2</th>\n",
       "      <th>label_3</th>\n",
       "      <th>label_4</th>\n",
       "    </tr>\n",
       "  </thead>\n",
       "  <tbody>\n",
       "    <tr>\n",
       "      <th>0</th>\n",
       "      <td>-1.141206</td>\n",
       "      <td>-2.729526</td>\n",
       "      <td>-0.972009</td>\n",
       "      <td>0.580536</td>\n",
       "      <td>-0.115635</td>\n",
       "      <td>-1.060545</td>\n",
       "      <td>0.891455</td>\n",
       "      <td>-2.766417</td>\n",
       "      <td>2.061118</td>\n",
       "      <td>1.610883</td>\n",
       "      <td>...</td>\n",
       "      <td>-0.303661</td>\n",
       "      <td>1.786763</td>\n",
       "      <td>2.831582</td>\n",
       "      <td>-1.136554</td>\n",
       "      <td>1.235363</td>\n",
       "      <td>1.902969</td>\n",
       "      <td>45</td>\n",
       "      <td>27</td>\n",
       "      <td>1</td>\n",
       "      <td>6</td>\n",
       "    </tr>\n",
       "    <tr>\n",
       "      <th>1</th>\n",
       "      <td>-1.796767</td>\n",
       "      <td>-3.461282</td>\n",
       "      <td>2.192923</td>\n",
       "      <td>2.805736</td>\n",
       "      <td>1.450816</td>\n",
       "      <td>-1.428263</td>\n",
       "      <td>-0.077756</td>\n",
       "      <td>-3.216417</td>\n",
       "      <td>3.504671</td>\n",
       "      <td>-0.096254</td>\n",
       "      <td>...</td>\n",
       "      <td>1.927416</td>\n",
       "      <td>-1.154412</td>\n",
       "      <td>2.567402</td>\n",
       "      <td>0.766687</td>\n",
       "      <td>3.159991</td>\n",
       "      <td>0.387435</td>\n",
       "      <td>45</td>\n",
       "      <td>27</td>\n",
       "      <td>1</td>\n",
       "      <td>6</td>\n",
       "    </tr>\n",
       "    <tr>\n",
       "      <th>2</th>\n",
       "      <td>-1.388968</td>\n",
       "      <td>-3.081147</td>\n",
       "      <td>2.695518</td>\n",
       "      <td>0.815327</td>\n",
       "      <td>1.586289</td>\n",
       "      <td>-1.174928</td>\n",
       "      <td>0.801264</td>\n",
       "      <td>-1.502470</td>\n",
       "      <td>4.188352</td>\n",
       "      <td>-1.366310</td>\n",
       "      <td>...</td>\n",
       "      <td>1.238104</td>\n",
       "      <td>-0.637527</td>\n",
       "      <td>0.716910</td>\n",
       "      <td>-0.756478</td>\n",
       "      <td>2.857820</td>\n",
       "      <td>0.928647</td>\n",
       "      <td>45</td>\n",
       "      <td>27</td>\n",
       "      <td>1</td>\n",
       "      <td>6</td>\n",
       "    </tr>\n",
       "    <tr>\n",
       "      <th>3</th>\n",
       "      <td>1.276844</td>\n",
       "      <td>-1.714863</td>\n",
       "      <td>1.803796</td>\n",
       "      <td>1.784700</td>\n",
       "      <td>2.889847</td>\n",
       "      <td>0.434343</td>\n",
       "      <td>-0.837194</td>\n",
       "      <td>-1.697381</td>\n",
       "      <td>4.092119</td>\n",
       "      <td>0.647607</td>\n",
       "      <td>...</td>\n",
       "      <td>0.526721</td>\n",
       "      <td>-0.115114</td>\n",
       "      <td>1.458338</td>\n",
       "      <td>-0.217736</td>\n",
       "      <td>1.451269</td>\n",
       "      <td>0.862430</td>\n",
       "      <td>45</td>\n",
       "      <td>27</td>\n",
       "      <td>1</td>\n",
       "      <td>6</td>\n",
       "    </tr>\n",
       "    <tr>\n",
       "      <th>4</th>\n",
       "      <td>-1.560815</td>\n",
       "      <td>-2.258071</td>\n",
       "      <td>1.701123</td>\n",
       "      <td>2.165399</td>\n",
       "      <td>0.240543</td>\n",
       "      <td>-0.597141</td>\n",
       "      <td>-0.173436</td>\n",
       "      <td>-2.190523</td>\n",
       "      <td>4.369282</td>\n",
       "      <td>0.300367</td>\n",
       "      <td>...</td>\n",
       "      <td>1.834922</td>\n",
       "      <td>0.636656</td>\n",
       "      <td>2.573324</td>\n",
       "      <td>0.023985</td>\n",
       "      <td>0.696921</td>\n",
       "      <td>0.883026</td>\n",
       "      <td>45</td>\n",
       "      <td>27</td>\n",
       "      <td>1</td>\n",
       "      <td>6</td>\n",
       "    </tr>\n",
       "  </tbody>\n",
       "</table>\n",
       "<p>5 rows × 260 columns</p>\n",
       "</div>"
      ],
      "text/plain": [
       "   feature_1  feature_10  feature_100  feature_101  feature_102  feature_103  \\\n",
       "0  -1.141206   -2.729526    -0.972009     0.580536    -0.115635    -1.060545   \n",
       "1  -1.796767   -3.461282     2.192923     2.805736     1.450816    -1.428263   \n",
       "2  -1.388968   -3.081147     2.695518     0.815327     1.586289    -1.174928   \n",
       "3   1.276844   -1.714863     1.803796     1.784700     2.889847     0.434343   \n",
       "4  -1.560815   -2.258071     1.701123     2.165399     0.240543    -0.597141   \n",
       "\n",
       "   feature_104  feature_105  feature_106  feature_107  ...  feature_94  \\\n",
       "0     0.891455    -2.766417     2.061118     1.610883  ...   -0.303661   \n",
       "1    -0.077756    -3.216417     3.504671    -0.096254  ...    1.927416   \n",
       "2     0.801264    -1.502470     4.188352    -1.366310  ...    1.238104   \n",
       "3    -0.837194    -1.697381     4.092119     0.647607  ...    0.526721   \n",
       "4    -0.173436    -2.190523     4.369282     0.300367  ...    1.834922   \n",
       "\n",
       "   feature_95  feature_96  feature_97  feature_98  feature_99  label_1  \\\n",
       "0    1.786763    2.831582   -1.136554    1.235363    1.902969       45   \n",
       "1   -1.154412    2.567402    0.766687    3.159991    0.387435       45   \n",
       "2   -0.637527    0.716910   -0.756478    2.857820    0.928647       45   \n",
       "3   -0.115114    1.458338   -0.217736    1.451269    0.862430       45   \n",
       "4    0.636656    2.573324    0.023985    0.696921    0.883026       45   \n",
       "\n",
       "   label_2  label_3  label_4  \n",
       "0       27        1        6  \n",
       "1       27        1        6  \n",
       "2       27        1        6  \n",
       "3       27        1        6  \n",
       "4       27        1        6  \n",
       "\n",
       "[5 rows x 260 columns]"
      ]
     },
     "execution_count": 34,
     "metadata": {},
     "output_type": "execute_result"
    }
   ],
   "source": [
    "test.head()"
   ]
  },
  {
   "cell_type": "code",
   "execution_count": 2,
   "metadata": {},
   "outputs": [
    {
     "ename": "NameError",
     "evalue": "name 'test' is not defined",
     "output_type": "error",
     "traceback": [
      "\u001b[1;31m---------------------------------------------------------------------------\u001b[0m",
      "\u001b[1;31mNameError\u001b[0m                                 Traceback (most recent call last)",
      "\u001b[1;32md:\\Academics\\Semester 7\\Machine Learning\\Assignments\\Lab 1\\Code\\without_fe.ipynb Cell 20\u001b[0m line \u001b[0;36m1\n\u001b[1;32m----> <a href='vscode-notebook-cell:/d%3A/Academics/Semester%207/Machine%20Learning/Assignments/Lab%201/Code/without_fe.ipynb#X25sZmlsZQ%3D%3D?line=0'>1</a>\u001b[0m test\u001b[39m.\u001b[39mto_csv(\u001b[39m'\u001b[39m\u001b[39mtest_with_predictions.csv\u001b[39m\u001b[39m'\u001b[39m, index\u001b[39m=\u001b[39m\u001b[39mFalse\u001b[39;00m)\n",
      "\u001b[1;31mNameError\u001b[0m: name 'test' is not defined"
     ]
    }
   ],
   "source": [
    "test.to_csv('test_with_predictions.csv', index=False)"
   ]
  }
 ],
 "metadata": {
  "kernelspec": {
   "display_name": "Python 3",
   "language": "python",
   "name": "python3"
  },
  "language_info": {
   "codemirror_mode": {
    "name": "ipython",
    "version": 3
   },
   "file_extension": ".py",
   "mimetype": "text/x-python",
   "name": "python",
   "nbconvert_exporter": "python",
   "pygments_lexer": "ipython3",
   "version": "3.10.11"
  }
 },
 "nbformat": 4,
 "nbformat_minor": 2
}
