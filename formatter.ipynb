{
 "cells": [
  {
   "cell_type": "code",
   "execution_count": 1,
   "metadata": {},
   "outputs": [],
   "source": [
    "import pandas as pd"
   ]
  },
  {
   "cell_type": "code",
   "execution_count": 2,
   "metadata": {},
   "outputs": [],
   "source": [
    "pred_all = pd.read_csv(\"test_with_predictions.csv\")"
   ]
  },
  {
   "cell_type": "code",
   "execution_count": 3,
   "metadata": {},
   "outputs": [],
   "source": [
    "for i in range(1,5):\n",
    "    output = pd.DataFrame()\n",
    "\n",
    "    output[\"prediction_without_fe\"] = pred_all[f\"label_{i}\"]\n",
    "\n",
    "    pred = pd.read_csv(f\"test_with_predictions_label{i}.csv\")\n",
    "    output[\"prediction_with_fe\"] = pred[f\"label_{i}\"]\n",
    "\n",
    "    pred = pred.drop(columns=[f\"label_{i}\"])\n",
    "\n",
    "    output[\"number_of_features\"] = pred.shape[1]\n",
    "\n",
    "    output = output.merge(pred, left_index=True, right_index=True)\n",
    "\n",
    "    output.to_csv(f\"predictions_label{i}.csv\", index=False)\n",
    "    \n"
   ]
  }
 ],
 "metadata": {
  "kernelspec": {
   "display_name": "Python 3",
   "language": "python",
   "name": "python3"
  },
  "language_info": {
   "codemirror_mode": {
    "name": "ipython",
    "version": 3
   },
   "file_extension": ".py",
   "mimetype": "text/x-python",
   "name": "python",
   "nbconvert_exporter": "python",
   "pygments_lexer": "ipython3",
   "version": "3.10.11"
  }
 },
 "nbformat": 4,
 "nbformat_minor": 2
}
